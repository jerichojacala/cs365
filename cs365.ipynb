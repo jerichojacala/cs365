{
  "nbformat": 4,
  "nbformat_minor": 0,
  "metadata": {
    "colab": {
      "provenance": []
    },
    "kernelspec": {
      "name": "python3",
      "display_name": "Python 3"
    },
    "language_info": {
      "name": "python"
    }
  },
  "cells": [
    {
      "cell_type": "code",
      "execution_count": 12,
      "metadata": {
        "id": "P6M04lZXVHvf"
      },
      "outputs": [],
      "source": [
        "#Jericho Jacala and Alden George\n",
        "import pandas as pd\n",
        "from sklearn.model_selection import train_test_split\n",
        "from sklearn.linear_model import LogisticRegression\n",
        "from sklearn.metrics import accuracy_score, classification_report\n",
        "from sklearn.preprocessing import StandardScaler\n",
        "from sklearn.metrics import accuracy_score\n",
        "from sklearn.metrics import recall_score\n",
        "from sklearn.metrics import precision_score\n",
        "from sklearn.decomposition import PCA\n",
        "from sklearn import svm\n",
        "import matplotlib.pyplot as plt\n",
        "from sklearn.neural_network import MLPClassifier\n",
        "import numpy as np"
      ]
    },
    {
      "cell_type": "code",
      "source": [
        "def logisticProcessing(X,y):\n",
        "\n",
        "\n",
        "  # Split the data into training and testing sets\n",
        "  X_train, X_test, y_train, y_test = train_test_split(X, y, test_size=0.2, random_state=42)\n",
        "\n",
        "  # Normalize the feature data\n",
        "  scaler = StandardScaler()\n",
        "  X_train_scaled = scaler.fit_transform(X_train)\n",
        "  X_test_scaled = scaler.transform(X_test)\n",
        "\n",
        "  # Define and train the logistic regression model\n",
        "  model = LogisticRegression()\n",
        "  model.fit(X_train_scaled, y_train)\n",
        "\n",
        "  # Predict on the testing set\n",
        "  y_pred = model.predict(X_test_scaled)\n",
        "\n",
        "  # Evaluate the model\n",
        "  accuracy = accuracy_score(y_test, y_pred)\n",
        "  print(f\"Model Accuracy: {accuracy:.4f}\")\n",
        "  return accuracy"
      ],
      "metadata": {
        "id": "ZXzmX-NfyS3m"
      },
      "execution_count": 2,
      "outputs": []
    },
    {
      "cell_type": "code",
      "source": [
        "data = pd.read_csv('cleaned_game_stats_2010_2016.csv')\n",
        "columns_to_drop = ['HomeTeam', 'AwayTeam', 'Total','H-RushAtt','H-Score','A-RushAtt','A-Score']\n",
        "data = data.drop(columns=columns_to_drop, axis=1)"
      ],
      "metadata": {
        "id": "y8lMJCtriIAF"
      },
      "execution_count": 3,
      "outputs": []
    },
    {
      "cell_type": "code",
      "source": [
        "# Load the cleaned data\n",
        "cleaned_data_path = 'cleaned_game_stats_2010_2016.csv'  # Replace with actual file path\n",
        "combined_data = pd.read_csv(cleaned_data_path)\n",
        "\n",
        "# Define your features and target\n",
        "X = combined_data[['H-RushYards', 'H-PassYards']]  # Example features\n",
        "y = combined_data['Result'].apply(lambda x: 1 if x == 1 else 0)  #(1: Home Win, 0: Otherwise)\n",
        "\n",
        "\n"
      ],
      "metadata": {
        "id": "GsvXxoJeqnG2"
      },
      "execution_count": 4,
      "outputs": []
    },
    {
      "cell_type": "code",
      "source": [
        "#run logistic model\n",
        "logisticProcessing(X,y)"
      ],
      "metadata": {
        "colab": {
          "base_uri": "https://localhost:8080/"
        },
        "id": "ULfOR32wcsMs",
        "outputId": "88b5eae2-e514-4c27-930f-43cee4ff8e39"
      },
      "execution_count": 5,
      "outputs": [
        {
          "output_type": "stream",
          "name": "stdout",
          "text": [
            "Model Accuracy: 0.6295\n"
          ]
        },
        {
          "output_type": "execute_result",
          "data": {
            "text/plain": [
              "0.6295264623955432"
            ]
          },
          "metadata": {},
          "execution_count": 5
        }
      ]
    },
    {
      "cell_type": "code",
      "source": [
        "#in order to reduce the complexity of the data, we conduct principle component analysis to reduce the complexity of our data\n",
        "def pcaprocessing(X,n):\n",
        "  pca = PCA(n_components=n)\n",
        "  std_scaler = StandardScaler()\n",
        "  X_scaled = std_scaler.fit_transform(X)\n",
        "  pca.fit(X_scaled)\n",
        "  transformed = pca.transform(X_scaled)\n",
        "  return transformed"
      ],
      "metadata": {
        "id": "xefWUBf3y3da"
      },
      "execution_count": 6,
      "outputs": []
    },
    {
      "cell_type": "code",
      "source": [
        "#We added all features as proposed and sought to determine how the number of principal components affected the accuracy of the data.\n",
        "#The predictions were most accurate with no pca at all (or 6 principal components)\n",
        "X = combined_data[['H-RushYards', 'H-PassYards','H-Turnover','A-RushYards', 'A-PassYards','A-Turnover']]\n",
        "y = combined_data['Result']\n",
        "components = []\n",
        "for n in range(1,7):\n",
        "  components.append(pcaprocessing(X,n))\n",
        "accuracies = []\n",
        "for i in components:\n",
        "  accuracies.append(logisticProcessing(i,y))\n",
        "plt.plot(range(1,7),accuracies)\n",
        "plt.title('Principal Components and Model Accuracy')\n",
        "plt.xlabel('Principal Components')\n",
        "plt.ylabel('Accuracy')"
      ],
      "metadata": {
        "colab": {
          "base_uri": "https://localhost:8080/",
          "height": 593
        },
        "id": "3eoZUGYB3oe5",
        "outputId": "aa1e3a9a-9aaf-4a51-9714-eb5716a413d4"
      },
      "execution_count": 7,
      "outputs": [
        {
          "output_type": "stream",
          "name": "stdout",
          "text": [
            "Model Accuracy: 0.4568\n",
            "Model Accuracy: 0.5682\n",
            "Model Accuracy: 0.5766\n",
            "Model Accuracy: 0.5794\n",
            "Model Accuracy: 0.5850\n",
            "Model Accuracy: 0.6657\n"
          ]
        },
        {
          "output_type": "execute_result",
          "data": {
            "text/plain": [
              "Text(0, 0.5, 'Accuracy')"
            ]
          },
          "metadata": {},
          "execution_count": 7
        },
        {
          "output_type": "display_data",
          "data": {
            "text/plain": [
              "<Figure size 640x480 with 1 Axes>"
            ],
            "image/png": "[encoded data removed]"
          },
          "metadata": {}
        }
      ]
    },
    {
      "cell_type": "markdown",
      "source": [
        "It appears that the model maintained optimal accuracy with no PCA at all, despite 6 features."
      ],
      "metadata": {
        "id": "zDfx-At3_j6O"
      }
    },
    {
      "cell_type": "code",
      "source": [
        "#https://www.datacamp.com/tutorial/svm-classification-scikit-learn-python\n",
        "def SVMprocessing(X,y,k):\n",
        "  X_train, X_test, y_train, y_test = train_test_split(X, y, test_size=0.2, random_state=42)\n",
        "  scaler = StandardScaler()\n",
        "  X_train_scaled = scaler.fit_transform(X_train)\n",
        "  X_test_scaled = scaler.transform(X_test)\n",
        "  clf = svm.SVC(kernel=k)\n",
        "  clf.fit(X_train_scaled,y_train)\n",
        "  y_pred = clf.predict(X_test_scaled)\n",
        "  accuracy = accuracy_score(y_test, y_pred)\n",
        "  print(f\"Model Accuracy: {accuracy:.4f}\")\n",
        "  return accuracy"
      ],
      "metadata": {
        "id": "EPFm20dC_tgd"
      },
      "execution_count": 8,
      "outputs": []
    },
    {
      "cell_type": "code",
      "source": [
        "#SVM modelling does slightly better with only preliminary features than logistic regression\n",
        "X = combined_data[['H-RushYards', 'H-PassYards']]\n",
        "y = combined_data['Result'].apply(lambda x: 1 if x == 1 else 0)\n",
        "SVMprocessing(X,y,'linear')"
      ],
      "metadata": {
        "colab": {
          "base_uri": "https://localhost:8080/"
        },
        "id": "6ptU1ZblcyKe",
        "outputId": "ee1a1975-3c62-46f4-9747-c7f581a1cdae"
      },
      "execution_count": 9,
      "outputs": [
        {
          "output_type": "stream",
          "name": "stdout",
          "text": [
            "Model Accuracy: 0.6351\n"
          ]
        },
        {
          "output_type": "execute_result",
          "data": {
            "text/plain": [
              "0.6350974930362117"
            ]
          },
          "metadata": {},
          "execution_count": 9
        }
      ]
    },
    {
      "cell_type": "code",
      "source": [
        "X = combined_data[['H-RushYards', 'H-PassYards','H-Turnover','A-RushYards', 'A-PassYards','A-Turnover']]\n",
        "y = combined_data['Result']\n",
        "SVMprocessing(X,y,'linear')"
      ],
      "metadata": {
        "colab": {
          "base_uri": "https://localhost:8080/"
        },
        "id": "6--7Dp3Xde7T",
        "outputId": "9a6714b2-0f26-4dd0-bc82-620764e601da"
      },
      "execution_count": 10,
      "outputs": [
        {
          "output_type": "stream",
          "name": "stdout",
          "text": [
            "Model Accuracy: 0.6797\n"
          ]
        },
        {
          "output_type": "execute_result",
          "data": {
            "text/plain": [
              "0.6796657381615598"
            ]
          },
          "metadata": {},
          "execution_count": 10
        }
      ]
    },
    {
      "cell_type": "code",
      "source": [],
      "metadata": {
        "id": "zXVJQpYTCjY0"
      },
      "execution_count": null,
      "outputs": []
    },
    {
      "cell_type": "markdown",
      "source": [
        "Without tuning, it seems that SVM only yields slightly more accuracy. However, we could possibly tune using different kernels. Since it is difficult to visualize the data, it is difficult to hypothesize which kernel would be best:"
      ],
      "metadata": {
        "id": "o32cKjULeKFo"
      }
    },
    {
      "cell_type": "code",
      "source": [
        "accuracies = []\n",
        "for k in ['linear','poly','rbf','sigmoid']:\n",
        "  trials = []\n",
        "  for i in range(10):\n",
        "    trials.append(SVMprocessing(X,y,k))\n",
        "  accuracies.append(np.average(trials))\n",
        "plt.bar(['linear','poly','rbf','sigmoid'],accuracies)\n",
        "plt.title('Different Kernel Methods and Model Accuracy')\n",
        "plt.xlabel('Kernel Method')\n",
        "plt.ylabel('Accuracy')"
      ],
      "metadata": {
        "colab": {
          "base_uri": "https://localhost:8080/",
          "height": 1000
        },
        "id": "iDgus9W4eQga",
        "outputId": "705fe9ef-b30a-4549-869d-369ec4e4c4de"
      },
      "execution_count": 13,
      "outputs": [
        {
          "output_type": "stream",
          "name": "stdout",
          "text": [
            "Model Accuracy: 0.6797\n",
            "Model Accuracy: 0.6797\n",
            "Model Accuracy: 0.6797\n",
            "Model Accuracy: 0.6797\n",
            "Model Accuracy: 0.6797\n",
            "Model Accuracy: 0.6797\n",
            "Model Accuracy: 0.6797\n",
            "Model Accuracy: 0.6797\n",
            "Model Accuracy: 0.6797\n",
            "Model Accuracy: 0.6797\n",
            "Model Accuracy: 0.6657\n",
            "Model Accuracy: 0.6657\n",
            "Model Accuracy: 0.6657\n",
            "Model Accuracy: 0.6657\n",
            "Model Accuracy: 0.6657\n",
            "Model Accuracy: 0.6657\n",
            "Model Accuracy: 0.6657\n",
            "Model Accuracy: 0.6657\n",
            "Model Accuracy: 0.6657\n",
            "Model Accuracy: 0.6657\n",
            "Model Accuracy: 0.6825\n",
            "Model Accuracy: 0.6825\n",
            "Model Accuracy: 0.6825\n",
            "Model Accuracy: 0.6825\n",
            "Model Accuracy: 0.6825\n",
            "Model Accuracy: 0.6825\n",
            "Model Accuracy: 0.6825\n",
            "Model Accuracy: 0.6825\n",
            "Model Accuracy: 0.6825\n",
            "Model Accuracy: 0.6825\n",
            "Model Accuracy: 0.6295\n",
            "Model Accuracy: 0.6295\n",
            "Model Accuracy: 0.6295\n",
            "Model Accuracy: 0.6295\n",
            "Model Accuracy: 0.6295\n",
            "Model Accuracy: 0.6295\n",
            "Model Accuracy: 0.6295\n",
            "Model Accuracy: 0.6295\n",
            "Model Accuracy: 0.6295\n",
            "Model Accuracy: 0.6295\n"
          ]
        },
        {
          "output_type": "execute_result",
          "data": {
            "text/plain": [
              "Text(0, 0.5, 'Accuracy')"
            ]
          },
          "metadata": {},
          "execution_count": 13
        },
        {
          "output_type": "display_data",
          "data": {
            "text/plain": [
              "<Figure size 640x480 with 1 Axes>"
            ],
            "image/png": "[encoded data removed]"
          },
          "metadata": {}
        }
      ]
    },
    {
      "cell_type": "code",
      "source": [
        "def neuralProcessing(X,y):\n",
        "  X_train, X_test, y_train, y_test = train_test_split(X, y, test_size=0.2, random_state=42)\n",
        "  scaler = StandardScaler()\n",
        "  X_train_scaled = scaler.fit_transform(X_train)\n",
        "  X_test_scaled = scaler.transform(X_test)\n",
        "  clf = MLPClassifier(random_state=1, max_iter=10000, solver='sgd')\n",
        "  clf.fit(X_train_scaled, y_train)\n",
        "  y_pred = clf.predict(X_test_scaled)\n",
        "  accuracy = accuracy_score(y_test, y_pred)\n",
        "  print(f\"Model Accuracy: {accuracy:.4f}\")\n",
        "  return accuracy"
      ],
      "metadata": {
        "id": "1cyJLTdGTfEc"
      },
      "execution_count": 14,
      "outputs": []
    },
    {
      "cell_type": "markdown",
      "source": [],
      "metadata": {
        "id": "rzX-RwLMMDPs"
      }
    },
    {
      "cell_type": "code",
      "source": [
        "neuralProcessing(X,y)"
      ],
      "metadata": {
        "colab": {
          "base_uri": "https://localhost:8080/"
        },
        "id": "JZE7sGYCUlOs",
        "outputId": "28a18c13-c333-4231-bca7-1c7ab60ba6fe"
      },
      "execution_count": 15,
      "outputs": [
        {
          "output_type": "stream",
          "name": "stdout",
          "text": [
            "Model Accuracy: 0.6685\n"
          ]
        },
        {
          "output_type": "execute_result",
          "data": {
            "text/plain": [
              "0.6685236768802229"
            ]
          },
          "metadata": {},
          "execution_count": 15
        }
      ]
    },
    {
      "cell_type": "markdown",
      "source": [
        "Now that we've explored different methods of classifying the data, we open up to the complete dataset to see if we can acquire extra accuracy from more training data. We choose the SVM model with polynomial kernel since this appeared to yield the best results so far."
      ],
      "metadata": {
        "id": "PYJ-t-_0WQKJ"
      }
    },
    {
      "cell_type": "code",
      "source": [
        "def get_outcome(home,away):\n",
        "  if home > away:\n",
        "    return 1\n",
        "  elif away > home:\n",
        "    return -1\n",
        "  else:\n",
        "    return 0"
      ],
      "metadata": {
        "id": "PhVZmO8DXo98"
      },
      "execution_count": 16,
      "outputs": []
    },
    {
      "cell_type": "code",
      "source": [
        "data_path = '/content/nfl_team_stats_2002-2023.csv'  # Replace with actual file path\n",
        "df = pd.read_csv(data_path)\n",
        "df['turnovers_home'] = df['interceptions_home'] + df['fumbles_home']\n",
        "df['turnovers_away'] = df['interceptions_away']+ df['fumbles_away']\n",
        "# Define your features and target\n",
        "X = df[['pass_yards_home', 'rush_yards_home','turnovers_home','pass_yards_away','rush_yards_away','turnovers_away']]  # Example features\n",
        "df['outcome'] = df.apply(lambda row: get_outcome(row['score_home'], row['score_away']), axis=1)\n",
        "\n",
        "y = df['outcome']"
      ],
      "metadata": {
        "id": "W1kFa1bmWlMP"
      },
      "execution_count": 17,
      "outputs": []
    },
    {
      "cell_type": "code",
      "source": [
        "SVMprocessing(X,y,'poly')"
      ],
      "metadata": {
        "colab": {
          "base_uri": "https://localhost:8080/"
        },
        "id": "Wz_Ry4oxZpFH",
        "outputId": "9e51f12d-a12b-40e4-bafc-b592b6c0bc1c"
      },
      "execution_count": 18,
      "outputs": [
        {
          "output_type": "stream",
          "name": "stdout",
          "text": [
            "Model Accuracy: 0.8272\n"
          ]
        },
        {
          "output_type": "execute_result",
          "data": {
            "text/plain": [
              "0.8271500843170321"
            ]
          },
          "metadata": {},
          "execution_count": 18
        }
      ]
    },
    {
      "cell_type": "markdown",
      "source": [
        "The model accuracy increased! Let's see if we can separate fumbles and interceptions to increase accuracy"
      ],
      "metadata": {
        "id": "U_JKD7DddrD6"
      }
    },
    {
      "cell_type": "code",
      "source": [
        "X = df[['pass_yards_home', 'rush_yards_home','interceptions_home','fumbles_home','pass_yards_away','rush_yards_away','interceptions_away','fumbles_away']]  # Example features\n",
        "components = []\n",
        "for n in range(1,9):\n",
        "  components.append(pcaprocessing(X,n))\n",
        "accuracies = []\n",
        "for i in components:\n",
        "  accuracies.append(SVMprocessing(i,y,'poly'))\n",
        "plt.plot(range(1,9),accuracies)\n",
        "plt.title('Principal Components on SVM accuracy')\n",
        "plt.xlabel('Principal Components')\n",
        "plt.ylabel('Accuracy')"
      ],
      "metadata": {
        "colab": {
          "base_uri": "https://localhost:8080/",
          "height": 628
        },
        "id": "7qQ9j7RRglW6",
        "outputId": "da0d1adc-be9f-4911-f16b-c42279831331"
      },
      "execution_count": 19,
      "outputs": [
        {
          "output_type": "stream",
          "name": "stdout",
          "text": [
            "Model Accuracy: 0.7277\n",
            "Model Accuracy: 0.7344\n",
            "Model Accuracy: 0.7386\n",
            "Model Accuracy: 0.7521\n",
            "Model Accuracy: 0.7580\n",
            "Model Accuracy: 0.7530\n",
            "Model Accuracy: 0.8120\n",
            "Model Accuracy: 0.8229\n"
          ]
        },
        {
          "output_type": "execute_result",
          "data": {
            "text/plain": [
              "Text(0, 0.5, 'Accuracy')"
            ]
          },
          "metadata": {},
          "execution_count": 19
        },
        {
          "output_type": "display_data",
          "data": {
            "text/plain": [
              "<Figure size 640x480 with 1 Axes>"
            ],
            "image/png": "[encoded data removed]"
          },
          "metadata": {}
        }
      ]
    },
    {
      "cell_type": "markdown",
      "source": [
        "Even at maximum components, the accuracy is still less than if we consider turnovers as a single feature."
      ],
      "metadata": {
        "id": "NIASKCwVkNQh"
      }
    },
    {
      "cell_type": "code",
      "source": [
        "#essentially the same as svmprocessing, but we return the model instead\n",
        "def makeModel(X,y,k):\n",
        "  X_train, X_test, y_train, y_test = train_test_split(X, y, test_size=0.2, random_state=42)\n",
        "  scaler = StandardScaler()\n",
        "  X_train_scaled = scaler.fit_transform(X_train)\n",
        "  X_test_scaled = scaler.transform(X_test)\n",
        "  clf = svm.SVC(kernel=k)\n",
        "  clf.fit(X_train_scaled,y_train)\n",
        "  y_pred = clf.predict(X_test_scaled)\n",
        "  accuracy = accuracy_score(y_test, y_pred)\n",
        "  print(f\"Model Accuracy: {accuracy:.4f}\")\n",
        "  return clf, scaler"
      ],
      "metadata": {
        "id": "3Btw6CQGzEDg"
      },
      "execution_count": null,
      "outputs": []
    },
    {
      "cell_type": "code",
      "source": [
        "X = df[['pass_yards_home', 'rush_yards_home','turnovers_home','pass_yards_away','rush_yards_away','turnovers_away']]\n",
        "y = df['outcome']\n",
        "cols = ['pass_yards_home', 'rush_yards_home','turnovers_home','pass_yards_away','rush_yards_away','turnovers_away']  #change column names to allow for scaling later\n",
        "clf,scaler = makeModel(X,y,'poly')"
      ],
      "metadata": {
        "colab": {
          "base_uri": "https://localhost:8080/"
        },
        "id": "xQSX74DK197F",
        "outputId": "4b1d251a-2e72-40f7-a2c7-a9ddffc30e86"
      },
      "execution_count": null,
      "outputs": [
        {
          "output_type": "stream",
          "name": "stdout",
          "text": [
            "Model Accuracy: 0.8272\n"
          ]
        }
      ]
    },
    {
      "cell_type": "code",
      "source": [
        "data_path = '/content/playoff_test_2023 - Sheet1.csv'  # Replace with actual file path\n",
        "df = pd.read_csv(data_path)\n",
        "# Define your features and target\n",
        "\n",
        "X_test = df[['expected_pass_home', 'expected_rush_home','expected_turnovers_home','expected_pass_away','expected_rush_away','expected_turnovers_away']]\n",
        "X_test.columns = cols\n",
        "y_test = df['outcome']\n",
        "X_test_scaled = scaler.transform(X_test)\n",
        "y_pred = clf.predict(X_test_scaled)\n",
        "accuracy = accuracy_score(y_test, y_pred)\n",
        "recall = recall_score(y_test, y_pred)\n",
        "precision = precision_score(y_test,y_pred)\n",
        "print(f\"Model Accuracy: {accuracy:.4f}\")\n",
        "print(f\"Model Recall: {recall:.4f}\")\n",
        "print(f\"Model Precision: {precision:.4f}\")"
      ],
      "metadata": {
        "colab": {
          "base_uri": "https://localhost:8080/"
        },
        "id": "FH8heUGGyeN8",
        "outputId": "01a03b56-cc67-4ac1-fa04-318ee723ed73"
      },
      "execution_count": null,
      "outputs": [
        {
          "output_type": "stream",
          "name": "stdout",
          "text": [
            "Model Accuracy: 0.6923\n",
            "Model Recall: 1.0000\n",
            "Precision Recall: 0.6923\n"
          ]
        }
      ]
    }
  ]
}